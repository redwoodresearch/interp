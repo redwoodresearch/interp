{
  "cells": [
    {
      "cell_type": "code",
      "execution_count": 2,
      "metadata": {},
      "outputs": [],
      "source": [
        "%load_ext autoreload\n",
        "%autoreload 2"
      ]
    },
    {
      "cell_type": "code",
      "execution_count": 7,
      "metadata": {},
      "outputs": [
        {
          "name": "stdout",
          "output_type": "stream",
          "text": [
            "started\n",
            "Composable UI initialized! Make sure you've run `npm install` and `npm run start` in /interp/app before using\n"
          ]
        },
        {
          "name": "stderr",
          "output_type": "stream",
          "text": [
            "Exception in thread Thread-6:\n",
            "Traceback (most recent call last):\n",
            "  File \"/home/ubuntu/conda/lib/python3.9/threading.py\", line 973, in _bootstrap_inner\n",
            "    self.run()\n",
            "  File \"/home/ubuntu/conda/lib/python3.9/threading.py\", line 910, in run\n",
            "    self._target(*self._args, **self._kwargs)\n",
            "  File \"/home/ubuntu/unity/interp/cui.py\", line 52, in loop_in_thread\n",
            "    loop.run_until_complete(websockets.serve(handler, \"localhost\", port))\n",
            "  File \"/home/ubuntu/conda/lib/python3.9/asyncio/base_events.py\", line 642, in run_until_complete\n",
            "    return future.result()\n",
            "  File \"/home/ubuntu/conda/lib/python3.9/asyncio/tasks.py\", line 690, in _wrap_awaitable\n",
            "    return (yield from awaitable.__await__())\n",
            "  File \"/home/ubuntu/conda/lib/python3.9/site-packages/websockets/legacy/server.py\", line 1086, in __await_impl__\n",
            "    server = await self._create_server()\n",
            "  File \"/home/ubuntu/conda/lib/python3.9/asyncio/base_events.py\", line 1494, in create_server\n",
            "    raise OSError(err.errno, 'error while attempting '\n",
            "OSError: [Errno 98] error while attempting to bind on address ('127.0.0.1', 6789): address already in use\n"
          ]
        }
      ],
      "source": [
        "import interp.cui as cui\n",
        "import jax.numpy as jnp\n",
        "import jax\n",
        "\n",
        "await cui.init(port=6789)  # type: ignore"
      ]
    },
    {
      "cell_type": "code",
      "execution_count": 4,
      "metadata": {},
      "outputs": [
        {
          "name": "stderr",
          "output_type": "stream",
          "text": [
            "INFO:absl:Unable to initialize backend 'tpu_driver': NOT_FOUND: Unable to find driver in registry given worker: \n"
          ]
        },
        {
          "name": "stdout",
          "output_type": "stream",
          "text": [
            "loading GPT2 from /home/ubuntu/interpretability_models_jax/GPT2\n"
          ]
        },
        {
          "name": "stderr",
          "output_type": "stream",
          "text": [
            "INFO:absl:Unable to initialize backend 'tpu': INVALID_ARGUMENT: TpuPlatform is not available.\n"
          ]
        }
      ],
      "source": [
        "from interp.ui.very_named_tensor import VeryNamedTensor\n",
        "\n",
        "from interp.model.model_loading import load_model\n",
        "from interp.tools.log import LogCacheAll, LogCache\n",
        "from interp.tools.interpretability_tools import get_activations_all_layers\n",
        "\n",
        "model, params, tok = load_model(\"GPT2\",models_dir=\"/home/ubuntu/interpretability_models_jax\", dtype=jnp.float16)"
      ]
    },
    {
      "cell_type": "code",
      "execution_count": 5,
      "metadata": {},
      "outputs": [
        {
          "name": "stdout",
          "output_type": "stream",
          "text": [
            "{'logits': (1, 9, 50257), 'attention.inp': (12, 1, 9, 768), 'mlp.inp': (12, 1, 9, 768), 'mlp.out': (12, 1, 9, 768), 'attention.out_by_head': (12, 1, 12, 9, 768)}\n"
          ]
        }
      ],
      "source": [
        "text1 = \"Yesterday Sarah walked around the park with their dog\"\n",
        "text2 = \"Yesterday John walked around the park with their dog\"\n",
        "# text1 = \"On Saturday, Mr Smith went to the mall.\"\n",
        "# text2 = \"On Saturday, Mrs Smith went to the mall.\"\n",
        "token_ids_1 = tok(text1, padding=False, return_tensors=\"jax\")[\"input_ids\"]\n",
        "token_ids_2 = tok(text2, padding=False, return_tensors=\"jax\")[\"input_ids\"]\n",
        "\n",
        "acts1 = get_activations_all_layers(model,params,token_ids_1,[\"attention.inp\",\"mlp.inp\",\"mlp.out\",\"attention.out_by_head\"])\n",
        "acts2 = get_activations_all_layers(model,params,token_ids_2,[\"attention.inp\",\"mlp.inp\",\"mlp.out\",\"attention.out_by_head\"])\n",
        "\n",
        "\n",
        "\n",
        "token_strs = [tok.decode(token_id) for token_id in token_ids_1[0]]\n",
        "\n",
        "# Let's visualize the attention scores by layer and head\n",
        "# does pytree stuff work?\n",
        "print({k:v.shape for k,v in acts1.items()})\n",
        "\n",
        "attn_inp_diffs = (acts1[\"attention.inp\"]-acts2[\"attention.inp\"]).squeeze(1)\n",
        "\n",
        "vnt_attn = VeryNamedTensor(\n",
        "    attn_inp_diffs,\n",
        "    dim_names=\"layer seq hidden\".split(),\n",
        "    dim_types=\"layer seq hidden\".split(),\n",
        "    dim_idx_names=[\n",
        "        [str(i) for i in range(model.num_layers)],\n",
        "        token_strs,\n",
        "        [str(i) for i in range(model.hidden_size)],\n",
        "    ],\n",
        "    units=\"prob\",\n",
        "    title=\"Layer Inp Diffs\",\n",
        ")\n",
        "\n",
        "attn_outp_diffs = (acts1[\"attention.out_by_head\"]-acts2[\"attention.out_by_head\"]).squeeze(1)\n",
        "\n",
        "vnt_attn_out = VeryNamedTensor(\n",
        "    attn_outp_diffs,\n",
        "    dim_names=\"layer head seq hidden\".split(),\n",
        "    dim_types=\"layer head seq hidden\".split(),\n",
        "    dim_idx_names=[\n",
        "        [str(i) for i in range(model.num_layers)],\n",
        "        [str(i) for i in range(model.num_heads)],\n",
        "        token_strs,\n",
        "        [str(i) for i in range(model.hidden_size)],\n",
        "    ],\n",
        "    units=\"prob\",\n",
        "    title=\"Head Outp Diffs\",\n",
        ")\n",
        "\n",
        "mlp_outp_diffs = (acts1[\"mlp.out\"]-acts2[\"mlp.out\"]).squeeze(1)\n",
        "\n",
        "vnt_mlp = VeryNamedTensor(\n",
        "    mlp_outp_diffs,\n",
        "    dim_names=\"layer seq hidden\".split(),\n",
        "    dim_types=\"layer seq hidden\".split(),\n",
        "    dim_idx_names=[\n",
        "        [str(i) for i in range(model.num_layers)],\n",
        "        token_strs,\n",
        "        [str(i) for i in range(model.hidden_size)],\n",
        "    ],\n",
        "    units=\"prob\",\n",
        "    title=\"Mlp Outp Diffs\",\n",
        ")"
      ]
    },
    {
      "cell_type": "code",
      "execution_count": 6,
      "metadata": {},
      "outputs": [
        {
          "data": {
            "text/html": [
              "<h1><a href=\"http://127.0.0.1:3000/#/tensors/untitled\" target=\"_blank\">Link</a><script>window.open(http://127.0.0.1:3000/#/tensors/untitled,\"_blank\")</script></h1>"
            ],
            "text/plain": [
              "<IPython.core.display.HTML object>"
            ]
          },
          "metadata": {},
          "output_type": "display_data"
        }
      ],
      "source": [
        "# Run this and then click the link that appears.\n",
        "await cui.show_tensors(\n",
        "    vnt_attn,\n",
        "    vnt_mlp,\n",
        "    vnt_attn_out,\n",
        ")"
      ]
    },
    {
      "cell_type": "code",
      "execution_count": 5,
      "metadata": {},
      "outputs": [
        {
          "name": "stdout",
          "output_type": "stream",
          "text": [
            "handler\n",
            "init\n",
            "nameStartup\n",
            "name untitled\n",
            "handler\n",
            "init\n",
            "nameStartup\n",
            "name untitled\n",
            "callback\n"
          ]
        }
      ],
      "source": [
        "\n",
        "# %%"
      ]
    },
    {
      "cell_type": "code",
      "execution_count": 6,
      "metadata": {},
      "outputs": [
        {
          "ename": "KeyError",
          "evalue": "0",
          "output_type": "error",
          "traceback": [
            "\u001b[0;31m---------------------------------------------------------------------------\u001b[0m",
            "\u001b[0;31mKeyError\u001b[0m                                  Traceback (most recent call last)",
            "\u001b[1;32m/home/ubuntu/unity/rrinterp/acts_schemas.ipynb Cell 5'\u001b[0m in \u001b[0;36m<module>\u001b[0;34m\u001b[0m\n\u001b[0;32m----> <a href='vscode-notebook-cell://ssh-remote%2B104.171.200.98/home/ubuntu/unity/rrinterp/acts_schemas.ipynb#ch0000005vscode-remote?line=0'>1</a>\u001b[0m \u001b[39mdict\u001b[39;49m(log1)\n",
            "File \u001b[0;32m~/unity/aann/tools/log.py:46\u001b[0m, in \u001b[0;36mLogCacheAll.__getitem__\u001b[0;34m(self, key)\u001b[0m\n\u001b[1;32m     <a href='file:///home/ubuntu/unity/aann/tools/log.py?line=44'>45</a>\u001b[0m \u001b[39mdef\u001b[39;00m \u001b[39m__getitem__\u001b[39m(\u001b[39mself\u001b[39m, key: \u001b[39mstr\u001b[39m) \u001b[39m-\u001b[39m\u001b[39m>\u001b[39m jnp\u001b[39m.\u001b[39mndarray:\n\u001b[0;32m---> <a href='file:///home/ubuntu/unity/aann/tools/log.py?line=45'>46</a>\u001b[0m     \u001b[39mreturn\u001b[39;00m \u001b[39mself\u001b[39;49m\u001b[39m.\u001b[39;49mcache[key]\n",
            "\u001b[0;31mKeyError\u001b[0m: 0"
          ]
        }
      ],
      "source": [
        "dict(log1)"
      ]
    },
    {
      "cell_type": "code",
      "execution_count": null,
      "metadata": {},
      "outputs": [],
      "source": []
    }
  ],
  "metadata": {
    "anaconda-cloud": {},
    "kernelspec": {
      "display_name": "Python 3",
      "language": "python",
      "name": "python3"
    },
    "language_info": {
      "codemirror_mode": {
        "name": "ipython",
        "version": 3
      },
      "file_extension": ".py",
      "mimetype": "text/x-python",
      "name": "python",
      "nbconvert_exporter": "python",
      "pygments_lexer": "ipython3",
      "version": "3.9.6"
    }
  },
  "nbformat": 4,
  "nbformat_minor": 4
}
