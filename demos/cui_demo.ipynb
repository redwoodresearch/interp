{
  "cells": [
    {
      "cell_type": "code",
      "execution_count": 1,
      "metadata": {},
      "outputs": [
        {
          "name": "stderr",
          "output_type": "stream",
          "text": [
            "/opt/homebrew/Caskroom/miniforge/base/envs/pytorch_env/lib/python3.8/site-packages/jax/_src/lib/__init__.py:33: UserWarning: JAX on Mac ARM machines is experimental and minimally tested. Please see https://github.com/google/jax/issues/5501 in the event of problems.\n",
            "  warnings.warn(\"JAX on Mac ARM machines is experimental and minimally tested. \"\n"
          ]
        },
        {
          "name": "stdout",
          "output_type": "stream",
          "text": [
            "Loading models from /Users/ckmacleod/rrfs/interpretability_models_jax/\n",
            "started\n",
            "Composable UI initialized! Make sure you've run `npm install` and `npm run start` in /interp/app before using\n"
          ]
        }
      ],
      "source": [
        "import interp.cui as cui\n",
        "import jax.numpy as jnp\n",
        "import jax\n",
        "\n",
        "await cui.init(port=6789)  # type: ignore"
      ]
    },
    {
      "cell_type": "code",
      "execution_count": 3,
      "metadata": {},
      "outputs": [],
      "source": [
        "from interp.ui.very_named_tensor import VeryNamedTensor\n",
        "\n",
        "from interp.model.model_loading import load_model\n",
        "from interp.tools.log import LogCacheAll\n",
        "\n",
        "model, params, tok = load_model(\"jan5_attn_only_two_layers\")\n",
        "text = \"[BEGIN] Mr and Mrs Dursley were proud to say that they were perfectly normal. Mr Dursley made drills.\"\n",
        "\n",
        "log = LogCacheAll()\n",
        "token_ids = tok(text, padding=False, return_tensors=\"jax\")[\"input_ids\"]\n",
        "token_strs = [tok.decode(token_id) for token_id in token_ids[0]]\n",
        "out, _ = model.apply(params, token_ids, log=log)\n",
        "# %%\n",
        "\n",
        "# Let's visualize the attention scores by layer and head\n",
        "attn = jnp.concatenate(\n",
        "    [log.get(f\"blocks.{i}.attention.attn_probs\") for i in range(model.num_layers)]\n",
        ")  # shape = (layer, head, seq, seq)\n",
        "\n",
        "vnt_attn = VeryNamedTensor(\n",
        "    attn,\n",
        "    dim_names=\"layer head Q K\".split(),\n",
        "    dim_types=\"layer head seq seq\".split(),\n",
        "    dim_idx_names=[\n",
        "        [str(i) for i in range(model.num_layers)],\n",
        "        [str(i) for i in range(model.num_heads)],\n",
        "        token_strs,\n",
        "        token_strs,\n",
        "    ],\n",
        "    units=\"prob\",\n",
        "    title=\"Attention Probabilities\",\n",
        ")\n",
        "\n",
        "# Also visualize the model's predictions\n",
        "logprobs = jax.nn.log_softmax(out[0])\n",
        "# For demo purposes reduce the amount of data sent - there's better ways to do this\n",
        "top_token_ids = (-logprobs.max(0)).argsort()[:50]\n",
        "vnt_preds = VeryNamedTensor(\n",
        "    logprobs[:, top_token_ids],\n",
        "    dim_names=\"seq vocab\".split(),\n",
        "    dim_types=\"seq vocab\".split(),\n",
        "    dim_idx_names=[token_strs, [tok.decode(token_id) for token_id in top_token_ids]],\n",
        "    units=\"logprob\",\n",
        "    title=\"Model Predictions\",\n",
        ")\n"
      ]
    },
    {
      "cell_type": "code",
      "execution_count": null,
      "metadata": {},
      "outputs": [],
      "source": []
    },
    {
      "cell_type": "code",
      "execution_count": 4,
      "metadata": {},
      "outputs": [
        {
          "data": {
            "text/html": [
              "<h1><a href=\"http://127.0.0.1:3000/#/tensors/untitled\" target=\"_blank\">Link</a><script>window.open(http://127.0.0.1:3000/#/tensors/untitled,\"_blank\")</script></h1>"
            ],
            "text/plain": [
              "<IPython.core.display.HTML object>"
            ]
          },
          "metadata": {},
          "output_type": "display_data"
        }
      ],
      "source": [
        "# Run this and then click the link that appears.\n",
        "cui.show_tensors(\n",
        "    vnt_preds,\n",
        "    vnt_attn,\n",
        ")"
      ]
    },
    {
      "cell_type": "code",
      "execution_count": 5,
      "metadata": {},
      "outputs": [
        {
          "name": "stdout",
          "output_type": "stream",
          "text": [
            "handler\n",
            "init\n",
            "nameStartup\n",
            "name untitled\n",
            "handler\n",
            "init\n",
            "nameStartup\n",
            "name untitled\n",
            "callback\n"
          ]
        }
      ],
      "source": [
        "\n",
        "# %%"
      ]
    },
    {
      "cell_type": "code",
      "execution_count": null,
      "metadata": {},
      "outputs": [],
      "source": []
    }
  ],
  "metadata": {
    "anaconda-cloud": {},
    "kernelspec": {
      "display_name": "Python 3",
      "language": "python",
      "name": "python3"
    },
    "language_info": {
      "codemirror_mode": {
        "name": "ipython",
        "version": 3
      },
      "file_extension": ".py",
      "mimetype": "text/x-python",
      "name": "python",
      "nbconvert_exporter": "python",
      "pygments_lexer": "ipython3",
      "version": "3.8.12"
    }
  },
  "nbformat": 4,
  "nbformat_minor": 4
}
